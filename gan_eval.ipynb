{
  "cells": [
    {
      "cell_type": "markdown",
      "metadata": {
        "id": "view-in-github",
        "colab_type": "text"
      },
      "source": [
        "<a href=\"https://colab.research.google.com/github/cikufa/Cloud-DCGAN---FID/blob/main/gan_eval.ipynb\" target=\"_parent\"><img src=\"https://colab.research.google.com/assets/colab-badge.svg\" alt=\"Open In Colab\"/></a>"
      ]
    },
    {
      "cell_type": "code",
      "execution_count": null,
      "metadata": {
        "colab": {
          "base_uri": "https://localhost:8080/"
        },
        "id": "pIr45XMwYP4M",
        "outputId": "b1feae2b-5515-4801-adb2-84413a83020f"
      },
      "outputs": [
        {
          "output_type": "stream",
          "name": "stdout",
          "text": [
            "Mounted at /content/gdrive\n"
          ]
        }
      ],
      "source": [
        "from google.colab import drive\n",
        "drive.mount('/content/gdrive')"
      ]
    },
    {
      "cell_type": "code",
      "execution_count": null,
      "metadata": {
        "id": "SeC-jTojYFts",
        "colab": {
          "base_uri": "https://localhost:8080/",
          "height": 237
        },
        "outputId": "5e25aa20-e720-4b2a-eec3-9674afb2d2c5"
      },
      "outputs": [
        {
          "output_type": "error",
          "ename": "FileNotFoundError",
          "evalue": "ignored",
          "traceback": [
            "\u001b[0;31m---------------------------------------------------------------------------\u001b[0m",
            "\u001b[0;31mFileNotFoundError\u001b[0m                         Traceback (most recent call last)",
            "\u001b[0;32m<ipython-input-5-644b185f4b72>\u001b[0m in \u001b[0;36m<module>\u001b[0;34m()\u001b[0m\n\u001b[1;32m     30\u001b[0m \u001b[0;34m\u001b[0m\u001b[0m\n\u001b[1;32m     31\u001b[0m \u001b[0mdatalist\u001b[0m\u001b[0;34m=\u001b[0m\u001b[0;34m[\u001b[0m\u001b[0;34m]\u001b[0m\u001b[0;34m\u001b[0m\u001b[0;34m\u001b[0m\u001b[0m\n\u001b[0;32m---> 32\u001b[0;31m \u001b[0;32mfor\u001b[0m \u001b[0mimg\u001b[0m \u001b[0;32min\u001b[0m \u001b[0mtqdm\u001b[0m\u001b[0;34m(\u001b[0m\u001b[0mos\u001b[0m\u001b[0;34m.\u001b[0m\u001b[0mlistdir\u001b[0m\u001b[0;34m(\u001b[0m\u001b[0mdata_pth\u001b[0m\u001b[0;34m)\u001b[0m\u001b[0;34m)\u001b[0m\u001b[0;34m:\u001b[0m\u001b[0;34m\u001b[0m\u001b[0;34m\u001b[0m\u001b[0m\n\u001b[0m\u001b[1;32m     33\u001b[0m   \u001b[0mdatalist\u001b[0m\u001b[0;34m.\u001b[0m\u001b[0mappend\u001b[0m\u001b[0;34m(\u001b[0m\u001b[0mimg\u001b[0m\u001b[0;34m)\u001b[0m\u001b[0;34m\u001b[0m\u001b[0;34m\u001b[0m\u001b[0m\n\u001b[1;32m     34\u001b[0m \u001b[0mprint\u001b[0m\u001b[0;34m(\u001b[0m\u001b[0mlen\u001b[0m\u001b[0;34m(\u001b[0m\u001b[0mdatalist\u001b[0m\u001b[0;34m)\u001b[0m\u001b[0;34m,\u001b[0m \u001b[0mdatalist\u001b[0m\u001b[0;34m[\u001b[0m\u001b[0;36m0\u001b[0m\u001b[0;34m]\u001b[0m\u001b[0;34m)\u001b[0m\u001b[0;34m\u001b[0m\u001b[0;34m\u001b[0m\u001b[0m\n",
            "\u001b[0;31mFileNotFoundError\u001b[0m: [Errno 2] No such file or directory: 'gdrive/MyDrive/cloud_gan/gan_dataset/understanding_cloud_organization/train_images'"
          ]
        }
      ],
      "source": [
        "import PIL\n",
        "import os\n",
        "import matplotlib.pyplot as plt\n",
        "from tqdm import tqdm\n",
        "import torch\n",
        "import numpy as np\n",
        "from torch import nn\n",
        "from tqdm.auto import tqdm\n",
        "from torchvision import transforms\n",
        "from torchvision.datasets import CelebA\n",
        "from torchvision.utils import make_grid\n",
        "from torch.utils.data import DataLoader\n",
        "import matplotlib.pyplot as plt\n",
        "import keras\n",
        "from torch.distributions import MultivariateNormal\n",
        "import pandas as pd\n",
        "import seaborn as sns \n",
        "import scipy\n",
        "from skimage.transform import resize\n",
        "from torchvision.models import inception_v3\n",
        "from PIL import Image \n",
        "import torchvision.transforms as transforms\n",
        "import math\n",
        "\n",
        "model_pth= 'gdrive/MyDrive/cloud_gan/modeltmp'\n",
        "test_model_pth = 'gdrive/MyDrive/cloud_gan/model128'\n",
        "data_pth = 'gdrive/MyDrive/cloud_gan/gan_dataset/understanding_cloud_organization/train_images' \n",
        "inception_path= 'gdrive/MyDrive/cloud_gan/inception_v3_google-1a9a5a14.pth'\n",
        "out_pth = 'gdrive/MyDrive/cloud_gan/out128'\n",
        "\n",
        "datalist=[]\n",
        "for img in tqdm(os.listdir(data_pth)):\n",
        "  datalist.append(img)\n",
        "print(len(datalist), datalist[0])\n"
      ]
    },
    {
      "cell_type": "code",
      "execution_count": null,
      "metadata": {
        "id": "uhJfG7q3WXM5"
      },
      "outputs": [],
      "source": [
        "def preprocess(img_dir, crop_idx=[5,7], IMAGE_SHAPE=(128,128,3)): #in: each img/ out: 35(or less) cropped, reshaped, adjusted value images \n",
        "  cropped_images= []\n",
        "  with Image.open(img_dir) as img:\n",
        "    img = img.resize((crop_idx[0]*IMAGE_SHAPE[0] , crop_idx[1]*IMAGE_SHAPE[1]),\n",
        "                          Image.ANTIALIAS ) #(1400,2100)->(480, 672)=(5*96,7*96)  \n",
        "    for c in range(crop_idx[1]): #width , col\n",
        "      for r in range(crop_idx[0]): #heigh , row \n",
        "        cropped = img.crop((r*IMAGE_SHAPE[0], c*IMAGE_SHAPE[1], (r+1)*IMAGE_SHAPE[0], (c+1)*IMAGE_SHAPE[1]))\n",
        "        cropped_blue=cropped.split()[2]\n",
        "        a= np.random.random() # for randomizing the real data batch for evaluation \n",
        "        if (np.count_nonzero(cropped_blue) == IMAGE_SHAPE[0]*IMAGE_SHAPE[1] and a>0.5):\n",
        "          cropped= torch.Tensor(cropped.getdata())\n",
        "          #cropped= cropped.reshape(1,cropped.size()[1], int(math.sqrt(cropped.size()[0])), int(math.sqrt(cropped.size()[0]))) #1,3,128,128\n",
        "          cropped = cropped / 127.5 - 1. #-1<training_data<1 , dtype : float64\n",
        "#          cropped = torch.nn.functional.interpolate(cropped, size=(299, 299), mode='bilinear', align_corners=False)\n",
        "          cropped_images.append(cropped)    \n",
        "  # plt.imshow(cropped_images[0])\n",
        "  # plt.show()\n",
        "  return cropped_images \n",
        "\n",
        "\n",
        "def generate_real_samples(cropped_images, img_num, img_dir, datalist, batch_size):  # returns a batch of real data(img, label) with shape(128,128,3)\n",
        "  #pdb.set_trace()\n",
        "  while(len(cropped_images) < batch_size):\n",
        "    cropped_images = cropped_images + preprocess(os.path.join(img_dir, datalist[img_num]))\n",
        "    img_num = img_num + 1\n",
        "  real_images= cropped_images.pop()\n",
        "  for i in range(batch_size-1):\n",
        "    real_images = torch.cat((real_images,cropped_images.pop()),0)\n",
        "  #real_images = torch.nn.functional.interpolate(real_images, size=(299, 299), mode='bilinear', align_corners=False)\n",
        "  real_label = np.random.uniform(low= 0.8, high=1.2, size=(batch_size, 1))\n",
        "  return cropped_images, img_num, real_images, real_label #(batch, 128*128 , 3)\n",
        "\n",
        "def generate_fake_samples(g_model, latent_dim, batch_size):   # returns a batch of fake data(img, label)\n",
        "\t# generate points in latent space\n",
        "  noise= np.random.normal(0,1,(batch_size,latent_dim))\t# predict outputs\n",
        "  fake_img = g_model.predict(noise)\n",
        "\t# create 'fake' class labels (0)\n",
        "\t#y = zeros((n_samples, 1))\n",
        "  fake_label = np.random.uniform(low= 0.0, high=0.25, size=(batch_size, 1))\n",
        "  return fake_img, fake_label\n",
        "\n",
        "\n",
        "# create and save a plot of generated images\n",
        "def save_plot(examples, saved_gen_num, fid, n=3):\n",
        "\t# scale from [-1,1] to [0,1]\n",
        "\texamples = (examples + 1) / 2.0\n",
        "\t# plot images\n",
        "\tfor i in range(n * n):\n",
        "\t\t# define subplot\n",
        "\t\tplt.subplot(n, n, 1 + i)\n",
        "\t\t# turn off axis\n",
        "\t\tplt.axis('off')\n",
        "\t\t# plot raw pixel data\n",
        "\t\tplt.imshow(examples[i])\n",
        "\t# save plot to file\n",
        "\tfilename = 'gdrive/MyDrive/cloud_gan/eval_generated/gen%03d_fid%03d.png' % ((saved_gen_num+1)*10  , fid)\n",
        "\tplt.savefig(filename)\n",
        "\tplt.close()"
      ]
    },
    {
      "cell_type": "markdown",
      "metadata": {
        "id": "EdXWUw-3yGey"
      },
      "source": [
        "**COURSERA FID (frechet inception score)**"
      ]
    },
    {
      "cell_type": "code",
      "execution_count": null,
      "metadata": {
        "id": "p4YjKivHx_gu"
      },
      "outputs": [],
      "source": [
        "import scipy.stats as stats\n",
        "def matrix_sqrt(x):\n",
        "    y = x.cpu().detach().numpy()\n",
        "    y = scipy.linalg.sqrtm(y)\n",
        "    return torch.Tensor(y.real, device=x.device)\n",
        "\n",
        "def frechet_distance(mu_x, mu_y, sigma_x, sigma_y):\n",
        "    return torch.norm(mu_x-mu_y)+torch.trace(sigma_x + sigma_y - matrix_sqrt(sigma_x @ sigma_y)*2)\n",
        "  \n",
        "# def preprocess(img):\n",
        "#     img = torch.nn.functional.interpolate(img, size=(299, 299), mode='bilinear', align_corners=False)\n",
        "#     return img\n",
        "    \n",
        "def get_covariance(features):\n",
        "    return torch.Tensor(np.cov(features.detach().numpy(), rowvar=False))\n",
        "\n",
        "def plot_fid(mu_fake , sigma_fake, mu_real, sigma_real):\n",
        "  #plot\n",
        "  indices = [2, 4, 5]\n",
        "  fake_dist = MultivariateNormal(mu_fake[indices], sigma_fake[indices][:, indices])\n",
        "  fake_samples = fake_dist.sample((20,))\n",
        "  real_dist = MultivariateNormal(mu_real[indices], sigma_real[indices][:, indices])\n",
        "  real_samples = real_dist.sample((20,))\n",
        "\n",
        "#  df_fake = pd.DataFrame(fake_samples.numpy(), columns=indices)\n",
        "  df_fake = pd.DataFrame(fake_samples.numpy()) #shape: (smaple, indices)\n",
        "  # print(\"fake unique \", df_fake.index.is_unique)\n",
        "  # print(\"faek dupl \", df_fake.index.duplicated())\n",
        "  #df_fake.loc[~df_fake.index.duplicated(), :]\n",
        "  df_real = pd.DataFrame(real_samples.numpy())\n",
        "  # print(\"real  uni \", df_real.index.is_unique)\n",
        "  # print(\"real dupl \", df_real.index.duplicated())\n",
        "  #df_real.loc[~df_real.index.duplicated(), :]\n",
        "\n",
        "  #df_fake[\"is_real\"] = \"no\"\n",
        "  #df_real[\"is_real\"] = \"yes\"\n",
        "  #df = pd.concat([df_fake, df_real])\n",
        "  # plt.plot(df_fake[0])\n",
        "  # plt.show()\n",
        "  # plt.plot(df_real[0])\n",
        "  # plt.show()\n",
        "  \n",
        "  # sns.pairplot(df, plot_kws={'alpha': 0.1}, hue='is_real')\n",
        "  # x = np.linspace(mu_fake - 3*sigma_fake, mu_fake + 3*sigma_fake, 100)\n",
        "  # plt.plot(x, stats.norm.pdf(x, mu_fake, sigma_fake)) \n",
        "  # plt.show()\n",
        "    \n",
        "  df_fake[\"is_real\"] = \"no\"\n",
        "  df_real[\"is_real\"] = \"yes\"\n",
        "  df = pd.concat([df_fake, df_real])\n",
        "  sns.pairplot(df, plot_kws={'alpha': 0.1}, hue='is_real')\n",
        "  \n",
        "def mu_sigma_calc(inception_model, evalbatch, n_samples, rf, generator):\n",
        "  features_list = []\n",
        "  cur_samples = 0\n",
        "  imn = int(np.random.random()*(len(datalist)-10))\n",
        "  cropped=[]\n",
        "  device= 'cpu'\n",
        "\n",
        "  with torch.no_grad(): # You don't need to calculate gradients here, so you do this to save memory\n",
        "  #try:\n",
        "    #for real_example, _ in tqdm(dataloader, total=n_samples // batch_size): # Go by batch\n",
        "    #for real_samples in tqdm(dataloader):\n",
        "    for i in range(0, n_samples//evalbatch, evalbatch):\n",
        "    # while cur_samples < n_samples:\n",
        "      if (rf == 0): #getin real image features  \n",
        "        cropped, imn, real_samples, reallbl  = generate_real_samples(cropped_images= cropped,\n",
        "            img_num=imn, img_dir=imgdir, datalist=datalist, batch_size = evalbatch) #real sample: (evalbatch, 128*128 ,3)\n",
        "      \n",
        "        real_samples= (real_samples + 1)//2  # [-1,1] -> [0,1]\n",
        "        real_samples= real_samples.reshape((evalbatch,128,128,3)) \n",
        "        real_samples= resize(real_samples, (evalbatch, 299, 299))\n",
        "        real_samples= real_samples.reshape((evalbatch,3,299,299))\n",
        "        real_samples= torch.tensor(real_samples)\n",
        "        #real_samples = torch.nn.functional.interpolate(real_samples, size=(299, 299), mode='bilinear', align_corners=False) #RECENTLY ADDED\n",
        "        real_features = inception_model(real_samples.to(device)).detach().to('cpu') # (evalbatch,2048)\n",
        "        features_list.append(real_features)\n",
        "        \n",
        "      elif (rf == 1): #getin fake image features  \n",
        "        noise = np.random.random((evalbatch, z_dim))\n",
        "        fake_samples = (gen.predict(noise) + 1)/2  #(evalbatch, 128,128,3)\n",
        "        #fake_samples= torch.tensor(fake_samples).reshape(evalbatch,3,128,128)\n",
        "        #fake_samples = torch.nn.functional.interpolate(fake_samples, size=(299, 299), mode='bilinear', align_corners=False)\n",
        "        fake_samples= resize(fake_samples, (evalbatch, 299, 299)) #(evalbatch, 299,299,3)\n",
        "        fake_samples= fake_samples.reshape((evalbatch,3,299,299))\n",
        "        fake_samples= torch.tensor(fake_samples)\n",
        "        fake_features = inception_model(fake_samples.to(device)).detach().to('cpu')\n",
        "        features_list.append(fake_features)  #(n_samples, 2048)\n",
        "\n",
        "      #cur_samples += evalbatch\n",
        "     \n",
        "  #except:\n",
        "  # else:\n",
        "  #   print(\"Error in loop\")\n",
        "  \n",
        "  features_all = torch.cat(features_list)\n",
        "  mu = torch.mean(features_all, 0) #(1,2048)\n",
        "  sigma = get_covariance(features_all) #(2048,2048)\n",
        "  # print(\"mu , sigma\", mu.shape, sigma.shape)\n",
        "  # print(\"features\", len(features_list), features_list[0].shape)\n",
        "  return mu, sigma"
      ]
    },
    {
      "cell_type": "code",
      "source": [
        "\n",
        "from torch.distributions import MultivariateNormal\n",
        "import seaborn as sns # This is for visualization\n",
        "mean = torch.Tensor([0, 0]) # Center the mean at the origin\n",
        "covariance = torch.Tensor( # This matrix shows independence - there are only non-zero values on the diagonal\n",
        "    [[1, 0],\n",
        "     [0, 1]]\n",
        ")\n",
        "independent_dist = MultivariateNormal(mean, covariance)\n",
        "samples = independent_dist.sample((10000,))\n",
        "res = sns.jointplot(samples[:, 0], samples[:, 1], kind=\"kde\")\n",
        "plt.show()"
      ],
      "metadata": {
        "colab": {
          "base_uri": "https://localhost:8080/",
          "height": 441
        },
        "id": "VDxtwyMkvpd6",
        "outputId": "6a11e157-78c7-4bb9-b09c-4cb3e101cb33"
      },
      "execution_count": null,
      "outputs": [
        {
          "output_type": "display_data",
          "data": {
            "text/plain": [
              "<Figure size 432x432 with 3 Axes>"
            ],
            "image/png": "[encoded data removed]"
          },
          "metadata": {
            "needs_background": "light"
          }
        }
      ]
    },
    {
      "cell_type": "code",
      "execution_count": null,
      "metadata": {
        "id": "KaliErifiaqD",
        "colab": {
          "base_uri": "https://localhost:8080/"
        },
        "outputId": "a7aadce4-5a0e-44db-8268-ffe38200f824"
      },
      "outputs": [
        {
          "output_type": "stream",
          "name": "stdout",
          "text": [
            "frechet distance real1-real2: 11.705864906311035\n",
            "WARNING:tensorflow:No training configuration found in the save file, so the model was *not* compiled. Compile it manually.\n",
            "frechet distance real1-fake30: 61.01310729980469\n",
            "WARNING:tensorflow:No training configuration found in the save file, so the model was *not* compiled. Compile it manually.\n",
            "frechet distance real1-fake40: 61.818809509277344\n",
            "WARNING:tensorflow:No training configuration found in the save file, so the model was *not* compiled. Compile it manually.\n",
            "frechet distance real1-fake50: 55.22883605957031\n",
            "WARNING:tensorflow:No training configuration found in the save file, so the model was *not* compiled. Compile it manually.\n",
            "frechet distance real1-fake60: 55.06769943237305\n",
            "WARNING:tensorflow:No training configuration found in the save file, so the model was *not* compiled. Compile it manually.\n",
            "frechet distance real1-fake70: 57.07067108154297\n",
            "WARNING:tensorflow:No training configuration found in the save file, so the model was *not* compiled. Compile it manually.\n",
            "frechet distance real1-fake80: 55.85044860839844\n",
            "WARNING:tensorflow:No training configuration found in the save file, so the model was *not* compiled. Compile it manually.\n",
            "frechet distance real1-fake90: 56.73310470581055\n"
          ]
        }
      ],
      "source": [
        "# #test\n",
        "import warnings\n",
        "warnings.filterwarnings(\"ignore\")\n",
        "\n",
        "from torchvision.models import inception_v3\n",
        "inception_model = inception_v3(pretrained=False)\n",
        "inception_model.load_state_dict(torch.load(inception_path))\n",
        "#inception_model.to(device)\n",
        "inception_model = inception_model.eval() # Evaluation mode\n",
        "inception_model.fc = torch.nn.Identity()\n",
        "#gen.eval()\n",
        "n=3\n",
        "evalbatch = n*n\n",
        "n_samples= 512 #1024\n",
        "device= 'cpu'\n",
        "z_dim = 100\n",
        "# cr_, imn_, dataloader, lbl_  = generate_real_samples(cropped_images=[],\n",
        "#           img_num=0, img_dir=imgdir, datalist=datalist, batch_size = evalbatch)\n",
        "\n",
        "#real\n",
        "mu_real1, sigma_real1 = mu_sigma_calc(inception_model, evalbatch, n_samples, 0, None)\n",
        "mu_real2, sigma_real2 = mu_sigma_calc(inception_model, evalbatch, n_samples, 0, None)\n",
        "print(\"frechet distance real1-real2:\", frechet_distance(mu_real1, mu_real2, sigma_real1, sigma_real2).item())\n",
        "\n",
        "with torch.no_grad():\n",
        "  for i in range(7):\n",
        "    g = f'gdrive/MyDrive/cloud_gan/model128/generator_0{(i+3)*10}.h5'\n",
        "    gen = keras.models.load_model(g)\n",
        "    #frechet\n",
        "    mu_fake, sigma_fake = mu_sigma_calc(inception_model, evalbatch, n_samples, 1, gen)\n",
        "    fid = frechet_distance(mu_fake, mu_real1, sigma_fake, sigma_real1).item()\n",
        "    print(f\"frechet distance real1-fake{10*(i+3)}:\",fid)\n",
        "    #monitor output\n",
        "    fake , _ = generate_fake_samples(gen, z_dim, evalbatch)\n",
        "    save_plot(fake, (i+3)*10, fid, n=3)\n"
      ]
    },
    {
      "cell_type": "markdown",
      "metadata": {
        "id": "-6U_JJ-JseKz"
      },
      "source": [
        "**####################################################################################################################################################################################################################**\n",
        "-----------------SSIM-------------------"
      ]
    },
    {
      "cell_type": "code",
      "execution_count": null,
      "metadata": {
        "id": "OYQFtzIcsSL_"
      },
      "outputs": [],
      "source": [
        "import torch  \n",
        "import torch.nn.functional as F \n",
        "import numpy as np\n",
        "import math\n",
        "from PIL import Image\n",
        "import cv2\n",
        "from google.colab.patches import cv2_imshow\n",
        "\n",
        "def gaussian(window_size, sigma):\n",
        "    \"\"\"\n",
        "    Generates a list of Tensor values drawn from a gaussian distribution with standard\n",
        "    diviation = sigma and sum of all elements = 1.\n",
        "\n",
        "    Length of list = window_size\n",
        "    \"\"\"    \n",
        "    gauss =  torch.Tensor([math.exp(-(x - window_size//2)**2/float(2*sigma**2)) for x in range(window_size)])\n",
        "    return gauss/gauss.sum()\n",
        "\n",
        "#______________________________________________________________________________\n",
        "\n",
        "def create_window(window_size, channel=1):\n",
        "    # Generate an 1D tensor containing values sampled from a gaussian distribution\n",
        "    _1d_window = gaussian(window_size=window_size, sigma=1.5).unsqueeze(1)\n",
        "    # Converting to 2D  \n",
        "    _2d_window = _1d_window.mm(_1d_window.t()).float().unsqueeze(0).unsqueeze(0)\n",
        "    window = torch.Tensor(_2d_window.expand(channel, 1, window_size, window_size).contiguous())\n",
        "    return window\n",
        "\n",
        "#________________________________________________________________________________\n",
        "\n",
        "def ssim(img1, img2, val_range, window_size=11, window=None, size_average=True, full=False):\n",
        "    L = val_range # L is the dynamic range of the pixel values (255 for 8-bit grayscale images),\n",
        "    pad = window_size // 2\n",
        "    try:\n",
        "        _, channels, height, width = img1.size()\n",
        "    except:\n",
        "        channels, height, width = img1.size()\n",
        "    # if window is not provided, init one\n",
        "    if window is None: \n",
        "        real_size = min(window_size, height, width) # window should be atleast 11x11 \n",
        "        window = create_window(real_size, channel=channels).to(img1.device)\n",
        "    \n",
        "    # calculating the mu parameter (locally) for both images using a gaussian filter \n",
        "    # calculates the luminosity params\n",
        "    mu1 = F.conv2d(img1, window, padding=pad, groups=channels)\n",
        "    mu2 = F.conv2d(img2, window, padding=pad, groups=channels)\n",
        "    mu1_sq = mu1 ** 2\n",
        "    mu2_sq = mu2 ** 2 \n",
        "    mu12 = mu1 * mu2\n",
        "\n",
        "    # now we calculate the sigma square parameter\n",
        "    # Sigma deals with the contrast component \n",
        "    sigma1_sq = F.conv2d(img1 * img1, window, padding=pad, groups=channels) - mu1_sq\n",
        "    sigma2_sq = F.conv2d(img2 * img2, window, padding=pad, groups=channels) - mu2_sq\n",
        "    sigma12 =  F.conv2d(img1 * img2, window, padding=pad, groups=channels) - mu12\n",
        "\n",
        "    # Some constants for stability \n",
        "    C1 = (0.01 ) ** 2  # NOTE: Removed L from here (ref PT implementation)\n",
        "    C2 = (0.03 ) ** 2 \n",
        "\n",
        "    contrast_metric = (2.0 * sigma12 + C2) / (sigma1_sq + sigma2_sq + C2)\n",
        "    contrast_metric = torch.mean(contrast_metric)\n",
        "\n",
        "    numerator1 = 2 * mu12 + C1  \n",
        "    numerator2 = 2 * sigma12 + C2\n",
        "    denominator1 = mu1_sq + mu2_sq + C1 \n",
        "    denominator2 = sigma1_sq + sigma2_sq + C2\n",
        "\n",
        "    ssim_score = (numerator1 * numerator2) / (denominator1 * denominator2)\n",
        "\n",
        "    if size_average:\n",
        "        ret = ssim_score.mean() \n",
        "    else: \n",
        "        ret = ssim_score.mean(1).mean(1).mean(1)\n",
        "    \n",
        "    if full:\n",
        "        return ret, contrast_metric\n",
        "    \n",
        "    return ret"
      ]
    },
    {
      "cell_type": "code",
      "execution_count": null,
      "metadata": {
        "colab": {
          "base_uri": "https://localhost:8080/",
          "height": 237
        },
        "id": "N9thtCevyt3C",
        "outputId": "5f36df36-ee93-44db-8c96-11074cff66d6"
      },
      "outputs": [
        {
          "output_type": "error",
          "ename": "NameError",
          "evalue": "ignored",
          "traceback": [
            "\u001b[0;31m---------------------------------------------------------------------------\u001b[0m",
            "\u001b[0;31mNameError\u001b[0m                                 Traceback (most recent call last)",
            "\u001b[0;32m<ipython-input-2-90804735fa98>\u001b[0m in \u001b[0;36m<module>\u001b[0;34m()\u001b[0m\n\u001b[1;32m      2\u001b[0m \u001b[0;32mimport\u001b[0m \u001b[0mtorch\u001b[0m\u001b[0;34m\u001b[0m\u001b[0;34m\u001b[0m\u001b[0m\n\u001b[1;32m      3\u001b[0m \u001b[0mssim_batch\u001b[0m\u001b[0;34m=\u001b[0m \u001b[0;36m10\u001b[0m\u001b[0;34m\u001b[0m\u001b[0;34m\u001b[0m\u001b[0m\n\u001b[0;32m----> 4\u001b[0;31m \u001b[0mcropped_images\u001b[0m\u001b[0;34m,\u001b[0m \u001b[0mimg_num\u001b[0m\u001b[0;34m,\u001b[0m \u001b[0mreal_ssim1\u001b[0m\u001b[0;34m,\u001b[0m \u001b[0mreal_label\u001b[0m \u001b[0;34m=\u001b[0m \u001b[0mgenerate_real_samples\u001b[0m\u001b[0;34m(\u001b[0m\u001b[0;34m[\u001b[0m\u001b[0;34m]\u001b[0m\u001b[0;34m,\u001b[0m \u001b[0;36m0\u001b[0m\u001b[0;34m,\u001b[0m \u001b[0mimg_dir\u001b[0m\u001b[0;34m,\u001b[0m \u001b[0mdatalist\u001b[0m\u001b[0;34m,\u001b[0m \u001b[0mssim_batch\u001b[0m\u001b[0;34m)\u001b[0m\u001b[0;34m\u001b[0m\u001b[0;34m\u001b[0m\u001b[0m\n\u001b[0m\u001b[1;32m      5\u001b[0m \u001b[0mcropped_images\u001b[0m\u001b[0;34m,\u001b[0m \u001b[0mimg_num\u001b[0m\u001b[0;34m,\u001b[0m \u001b[0mreal_ssim2\u001b[0m\u001b[0;34m,\u001b[0m \u001b[0mreal_label\u001b[0m \u001b[0;34m=\u001b[0m \u001b[0mgenerate_real_samples\u001b[0m\u001b[0;34m(\u001b[0m\u001b[0;34m[\u001b[0m\u001b[0;34m]\u001b[0m\u001b[0;34m,\u001b[0m \u001b[0;36m3\u001b[0m\u001b[0;34m,\u001b[0m \u001b[0mimg_dir\u001b[0m\u001b[0;34m,\u001b[0m \u001b[0mdatalist\u001b[0m\u001b[0;34m,\u001b[0m \u001b[0mssim_batch\u001b[0m\u001b[0;34m)\u001b[0m\u001b[0;34m\u001b[0m\u001b[0;34m\u001b[0m\u001b[0m\n\u001b[1;32m      6\u001b[0m \u001b[0;34m\u001b[0m\u001b[0m\n",
            "\u001b[0;31mNameError\u001b[0m: name 'generate_real_samples' is not defined"
          ]
        }
      ],
      "source": [
        "import keras\n",
        "import torch \n",
        "ssim_batch= 10\n",
        "cropped_images, img_num, real_ssim1, real_label = generate_real_samples([], 0, data_pth, datalist, ssim_batch)\n",
        "cropped_images, img_num, real_ssim2, real_label = generate_real_samples([], 3, data_pth, datalist, ssim_batch)\n",
        "\n",
        "#print((real_ssim[0]).shape)\n",
        "noise = np.random.random((ssim_batch,100))\n",
        "gen90 = keras.models.load_model('gdrive/MyDrive/cloud_gan/model128/generator_060.h5')\n",
        "fake_ssim = (gen90.predict(noise).reshape(ssim_batch,3,128,128) + 1)/2\n",
        "#print(len(fake_ssim), (fake_ssim[0]).shape)\n",
        "ssim_r1f = ssim(torch.tensor(real_ssim1), torch.tensor(fake_ssim), val_range=255)\n",
        "ssim_r2f = ssim(torch.tensor(real_ssim2), torch.tensor(fake_ssim), val_range=255)\n",
        "ssim_rr = ssim(torch.tensor(real_ssim1), torch.tensor(real_ssim2), val_range=255)\n",
        "print(ssim_r1f, ssim_r2f, ssim_rr)\n",
        "\n",
        "for im in fake_ssim:\n",
        "  im= (im.reshape(128,128,3))\n",
        "  plt.imshow(im)\n",
        "  plt.show()"
      ]
    },
    {
      "cell_type": "markdown",
      "source": [
        "--- MSE ---\n"
      ],
      "metadata": {
        "id": "qK0nx4gQxKci"
      }
    },
    {
      "cell_type": "code",
      "source": [
        "from tensorflow import keras\n",
        "from PIL import Image\n",
        "import matplotlib.pyplot as plt\n",
        "from skimage.metrics import structural_similarity as ssim\n",
        "import numpy as np\n",
        "\n",
        "def mse(imageA, imageB):\n",
        " # the 'Mean Squared Error' between the two images is the sum of the squared difference between the two images\n",
        " mse_error = np.sum((imageA.astype(\"float\") - imageB.astype(\"float\")) ** 2)\n",
        " mse_error /= float(imageA.shape[0] * imageA.shape[1])\t\n",
        " # return the MSE. The lower the error, the more \"similar\" the two images are.\n",
        " return mse_error\n",
        "\n",
        "noise= np.random.random((1,100))\t# predict outputs\n",
        "gan1 = keras.models.load_model('gdrive/MyDrive/cloud_gan/model128/generator_010.h5')\n",
        "fake1 = gan1.predict(noise)\n",
        "fake1 = (fake1[0]+1)/2.0\n",
        "plt.imshow(fake1)\n",
        "plt.show()\n",
        "gan9 = keras.models.load_model('gdrive/MyDrive/cloud_gan/model128/generator_090.h5')\n",
        "fake9 = gan9.predict(noise)\n",
        "fake9 = (fake9[0]+1)/2.0\n",
        "plt.imshow(fake9)\n",
        "plt.show()\n",
        "with Image.open('gdrive/MyDrive/cloud_gan/gan_dataset/understanding_cloud_organization/train_images/006bf7c.jpg'\n",
        ") as real:\n",
        "  real1 = real.crop((0,0,128,128))\n",
        "  real2 = real.crop((128,0,256,128))\n",
        "real1= np.array(real1)\n",
        "real2= np.array(real2)\n",
        "\n",
        "print(ssim(real1 , real2, multichannel=True))\n",
        "print(ssim(real1 , fake1, multichannel=True))\n",
        "print(ssim(real1 , fake9, multichannel=True))\n",
        "print(mse(real1 , real2))\n",
        "print(mse(real1 , fake1))\n",
        "print(mse(real1 , fake9))\n"
      ],
      "metadata": {
        "id": "R7-l2-koxIf5"
      },
      "execution_count": null,
      "outputs": []
    },
    {
      "cell_type": "markdown",
      "metadata": {
        "id": "eawnxMVfxDrQ"
      },
      "source": [
        "**############################################################################################################################################################################################################**\n",
        "INCEPRION GIT PAPER"
      ]
    }
  ],
  "metadata": {
    "colab": {
      "collapsed_sections": [],
      "name": "gan eval.ipynb",
      "provenance": [],
      "authorship_tag": "ABX9TyMjJbrok9p7/S1qQdSuUqE6",
      "include_colab_link": true
    },
    "kernelspec": {
      "display_name": "Python 3",
      "name": "python3"
    },
    "language_info": {
      "name": "python"
    }
  },
  "nbformat": 4,
  "nbformat_minor": 0
}